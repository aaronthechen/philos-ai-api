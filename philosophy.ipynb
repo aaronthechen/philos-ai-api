{
  "cells": [
    {
      "cell_type": "code",
      "execution_count": null,
      "metadata": {
        "colab": {
          "base_uri": "https://localhost:8080/"
        },
        "id": "jnjwkJLTH3Mx",
        "outputId": "7c219fb9-f3fc-4844-a4f5-76728bcb5726"
      },
      "outputs": [
        {
          "name": "stdout",
          "output_type": "stream",
          "text": [
            "Looking in indexes: https://pypi.org/simple, https://us-python.pkg.dev/colab-wheels/public/simple/\n",
            "Requirement already satisfied: pandas in /usr/local/lib/python3.8/dist-packages (1.3.5)\n",
            "Requirement already satisfied: sentence_transformers in /usr/local/lib/python3.8/dist-packages (2.2.2)\n",
            "Requirement already satisfied: python-dateutil>=2.7.3 in /usr/local/lib/python3.8/dist-packages (from pandas) (2.8.2)\n",
            "Requirement already satisfied: pytz>=2017.3 in /usr/local/lib/python3.8/dist-packages (from pandas) (2022.7)\n",
            "Requirement already satisfied: numpy>=1.17.3 in /usr/local/lib/python3.8/dist-packages (from pandas) (1.21.6)\n",
            "Requirement already satisfied: sentencepiece in /usr/local/lib/python3.8/dist-packages (from sentence_transformers) (0.1.97)\n",
            "Requirement already satisfied: scipy in /usr/local/lib/python3.8/dist-packages (from sentence_transformers) (1.7.3)\n",
            "Requirement already satisfied: nltk in /usr/local/lib/python3.8/dist-packages (from sentence_transformers) (3.7)\n",
            "Requirement already satisfied: transformers<5.0.0,>=4.6.0 in /usr/local/lib/python3.8/dist-packages (from sentence_transformers) (4.26.0)\n",
            "Requirement already satisfied: huggingface-hub>=0.4.0 in /usr/local/lib/python3.8/dist-packages (from sentence_transformers) (0.12.0)\n",
            "Requirement already satisfied: torchvision in /usr/local/lib/python3.8/dist-packages (from sentence_transformers) (0.14.1+cu116)\n",
            "Requirement already satisfied: tqdm in /usr/local/lib/python3.8/dist-packages (from sentence_transformers) (4.64.1)\n",
            "Requirement already satisfied: scikit-learn in /usr/local/lib/python3.8/dist-packages (from sentence_transformers) (1.0.2)\n",
            "Requirement already satisfied: torch>=1.6.0 in /usr/local/lib/python3.8/dist-packages (from sentence_transformers) (1.13.1+cu116)\n",
            "Requirement already satisfied: pyyaml>=5.1 in /usr/local/lib/python3.8/dist-packages (from huggingface-hub>=0.4.0->sentence_transformers) (6.0)\n",
            "Requirement already satisfied: typing-extensions>=3.7.4.3 in /usr/local/lib/python3.8/dist-packages (from huggingface-hub>=0.4.0->sentence_transformers) (4.4.0)\n",
            "Requirement already satisfied: filelock in /usr/local/lib/python3.8/dist-packages (from huggingface-hub>=0.4.0->sentence_transformers) (3.9.0)\n",
            "Requirement already satisfied: packaging>=20.9 in /usr/local/lib/python3.8/dist-packages (from huggingface-hub>=0.4.0->sentence_transformers) (21.3)\n",
            "Requirement already satisfied: requests in /usr/local/lib/python3.8/dist-packages (from huggingface-hub>=0.4.0->sentence_transformers) (2.25.1)\n",
            "Requirement already satisfied: six>=1.5 in /usr/local/lib/python3.8/dist-packages (from python-dateutil>=2.7.3->pandas) (1.15.0)\n",
            "Requirement already satisfied: regex!=2019.12.17 in /usr/local/lib/python3.8/dist-packages (from transformers<5.0.0,>=4.6.0->sentence_transformers) (2022.6.2)\n",
            "Requirement already satisfied: tokenizers!=0.11.3,<0.14,>=0.11.1 in /usr/local/lib/python3.8/dist-packages (from transformers<5.0.0,>=4.6.0->sentence_transformers) (0.13.2)\n",
            "Requirement already satisfied: click in /usr/local/lib/python3.8/dist-packages (from nltk->sentence_transformers) (7.1.2)\n",
            "Requirement already satisfied: joblib in /usr/local/lib/python3.8/dist-packages (from nltk->sentence_transformers) (1.2.0)\n",
            "Requirement already satisfied: threadpoolctl>=2.0.0 in /usr/local/lib/python3.8/dist-packages (from scikit-learn->sentence_transformers) (3.1.0)\n",
            "Requirement already satisfied: pillow!=8.3.*,>=5.3.0 in /usr/local/lib/python3.8/dist-packages (from torchvision->sentence_transformers) (7.1.2)\n",
            "Requirement already satisfied: pyparsing!=3.0.5,>=2.0.2 in /usr/local/lib/python3.8/dist-packages (from packaging>=20.9->huggingface-hub>=0.4.0->sentence_transformers) (3.0.9)\n",
            "Requirement already satisfied: urllib3<1.27,>=1.21.1 in /usr/local/lib/python3.8/dist-packages (from requests->huggingface-hub>=0.4.0->sentence_transformers) (1.24.3)\n",
            "Requirement already satisfied: chardet<5,>=3.0.2 in /usr/local/lib/python3.8/dist-packages (from requests->huggingface-hub>=0.4.0->sentence_transformers) (4.0.0)\n",
            "Requirement already satisfied: certifi>=2017.4.17 in /usr/local/lib/python3.8/dist-packages (from requests->huggingface-hub>=0.4.0->sentence_transformers) (2022.12.7)\n",
            "Requirement already satisfied: idna<3,>=2.5 in /usr/local/lib/python3.8/dist-packages (from requests->huggingface-hub>=0.4.0->sentence_transformers) (2.10)\n"
          ]
        }
      ],
      "source": [
        "!pip install pandas sentence_transformers"
      ]
    },
    {
      "cell_type": "markdown",
      "metadata": {
        "id": "rFCrL887FcXo"
      },
      "source": [
        "Install Dependencies"
      ]
    },
    {
      "cell_type": "code",
      "execution_count": null,
      "metadata": {
        "id": "m62Nnozsow68"
      },
      "outputs": [],
      "source": [
        "from sentence_transformers import SentenceTransformer, CrossEncoder, util\n",
        "import pandas as pd\n",
        "import pickle\n",
        "import bz2"
      ]
    },
    {
      "cell_type": "markdown",
      "metadata": {
        "id": "e2jPofSHFmUA"
      },
      "source": [
        "Load Sentence Transformers Encoders"
      ]
    },
    {
      "cell_type": "code",
      "execution_count": null,
      "metadata": {
        "id": "XuOiyAMHpBRg"
      },
      "outputs": [],
      "source": [
        "bi_encoder = SentenceTransformer('multi-qa-MiniLM-L6-cos-v1')\n",
        "bi_encoder.max_seq_length = 256\n",
        "top_k = 32   \n",
        "\n",
        "cross_encoder = CrossEncoder('cross-encoder/ms-marco-MiniLM-L-6-v2')"
      ]
    },
    {
      "cell_type": "markdown",
      "metadata": {
        "id": "Tfq24MB4FuvE"
      },
      "source": [
        "Load Dataframe"
      ]
    },
    {
      "cell_type": "code",
      "execution_count": 16,
      "metadata": {
        "colab": {
          "base_uri": "https://localhost:8080/",
          "height": 424
        },
        "id": "zgj_ipAEFt8Q",
        "outputId": "3bbaaa30-b98c-4b72-d60e-7c2ec1093c07"
      },
      "outputs": [
        {
          "data": {
            "text/html": [
              "\n",
              "  <div id=\"df-3a8f2622-685c-4dd0-955c-0cf35ab3ae0e\">\n",
              "    <div class=\"colab-df-container\">\n",
              "      <div>\n",
              "<style scoped>\n",
              "    .dataframe tbody tr th:only-of-type {\n",
              "        vertical-align: middle;\n",
              "    }\n",
              "\n",
              "    .dataframe tbody tr th {\n",
              "        vertical-align: top;\n",
              "    }\n",
              "\n",
              "    .dataframe thead th {\n",
              "        text-align: right;\n",
              "    }\n",
              "</style>\n",
              "<table border=\"1\" class=\"dataframe\">\n",
              "  <thead>\n",
              "    <tr style=\"text-align: right;\">\n",
              "      <th></th>\n",
              "      <th>title</th>\n",
              "      <th>author</th>\n",
              "      <th>school</th>\n",
              "      <th>sentence_spacy</th>\n",
              "      <th>sentence_str</th>\n",
              "      <th>original_publication_date</th>\n",
              "      <th>corpus_edition_date</th>\n",
              "      <th>sentence_length</th>\n",
              "      <th>sentence_lowered</th>\n",
              "      <th>tokenized_txt</th>\n",
              "      <th>lemmatized_str</th>\n",
              "    </tr>\n",
              "  </thead>\n",
              "  <tbody>\n",
              "    <tr>\n",
              "      <th>0</th>\n",
              "      <td>Plato - Complete Works</td>\n",
              "      <td>Plato</td>\n",
              "      <td>plato</td>\n",
              "      <td>What's new, Socrates, to make you leave your ...</td>\n",
              "      <td>What's new, Socrates, to make you leave your ...</td>\n",
              "      <td>-350</td>\n",
              "      <td>1997</td>\n",
              "      <td>125</td>\n",
              "      <td>what's new, socrates, to make you leave your ...</td>\n",
              "      <td>['what', 'new', 'socrates', 'to', 'make', 'you...</td>\n",
              "      <td>what be new , Socrates , to make -PRON- lea...</td>\n",
              "    </tr>\n",
              "    <tr>\n",
              "      <th>1</th>\n",
              "      <td>Plato - Complete Works</td>\n",
              "      <td>Plato</td>\n",
              "      <td>plato</td>\n",
              "      <td>Surely you are not prosecuting anyone before t...</td>\n",
              "      <td>Surely you are not prosecuting anyone before t...</td>\n",
              "      <td>-350</td>\n",
              "      <td>1997</td>\n",
              "      <td>69</td>\n",
              "      <td>surely you are not prosecuting anyone before t...</td>\n",
              "      <td>['surely', 'you', 'are', 'not', 'prosecuting',...</td>\n",
              "      <td>surely -PRON- be not prosecute anyone before ...</td>\n",
              "    </tr>\n",
              "    <tr>\n",
              "      <th>2</th>\n",
              "      <td>Plato - Complete Works</td>\n",
              "      <td>Plato</td>\n",
              "      <td>plato</td>\n",
              "      <td>The Athenians do not call this a prosecution b...</td>\n",
              "      <td>The Athenians do not call this a prosecution b...</td>\n",
              "      <td>-350</td>\n",
              "      <td>1997</td>\n",
              "      <td>74</td>\n",
              "      <td>the athenians do not call this a prosecution b...</td>\n",
              "      <td>['the', 'athenians', 'do', 'not', 'call', 'thi...</td>\n",
              "      <td>the Athenians do not call this a prosecution ...</td>\n",
              "    </tr>\n",
              "    <tr>\n",
              "      <th>3</th>\n",
              "      <td>Plato - Complete Works</td>\n",
              "      <td>Plato</td>\n",
              "      <td>plato</td>\n",
              "      <td>What is this you say?</td>\n",
              "      <td>What is this you say?</td>\n",
              "      <td>-350</td>\n",
              "      <td>1997</td>\n",
              "      <td>21</td>\n",
              "      <td>what is this you say?</td>\n",
              "      <td>['what', 'is', 'this', 'you', 'say']</td>\n",
              "      <td>what be this -PRON- say ?</td>\n",
              "    </tr>\n",
              "    <tr>\n",
              "      <th>4</th>\n",
              "      <td>Plato - Complete Works</td>\n",
              "      <td>Plato</td>\n",
              "      <td>plato</td>\n",
              "      <td>Someone must have indicted you, for you are no...</td>\n",
              "      <td>Someone must have indicted you, for you are no...</td>\n",
              "      <td>-350</td>\n",
              "      <td>1997</td>\n",
              "      <td>101</td>\n",
              "      <td>someone must have indicted you, for you are no...</td>\n",
              "      <td>['someone', 'must', 'have', 'indicted', 'you',...</td>\n",
              "      <td>someone must have indict -PRON- , for -PRON- ...</td>\n",
              "    </tr>\n",
              "  </tbody>\n",
              "</table>\n",
              "</div>\n",
              "      <button class=\"colab-df-convert\" onclick=\"convertToInteractive('df-3a8f2622-685c-4dd0-955c-0cf35ab3ae0e')\"\n",
              "              title=\"Convert this dataframe to an interactive table.\"\n",
              "              style=\"display:none;\">\n",
              "        \n",
              "  <svg xmlns=\"http://www.w3.org/2000/svg\" height=\"24px\"viewBox=\"0 0 24 24\"\n",
              "       width=\"24px\">\n",
              "    <path d=\"M0 0h24v24H0V0z\" fill=\"none\"/>\n",
              "    <path d=\"M18.56 5.44l.94 2.06.94-2.06 2.06-.94-2.06-.94-.94-2.06-.94 2.06-2.06.94zm-11 1L8.5 8.5l.94-2.06 2.06-.94-2.06-.94L8.5 2.5l-.94 2.06-2.06.94zm10 10l.94 2.06.94-2.06 2.06-.94-2.06-.94-.94-2.06-.94 2.06-2.06.94z\"/><path d=\"M17.41 7.96l-1.37-1.37c-.4-.4-.92-.59-1.43-.59-.52 0-1.04.2-1.43.59L10.3 9.45l-7.72 7.72c-.78.78-.78 2.05 0 2.83L4 21.41c.39.39.9.59 1.41.59.51 0 1.02-.2 1.41-.59l7.78-7.78 2.81-2.81c.8-.78.8-2.07 0-2.86zM5.41 20L4 18.59l7.72-7.72 1.47 1.35L5.41 20z\"/>\n",
              "  </svg>\n",
              "      </button>\n",
              "      \n",
              "  <style>\n",
              "    .colab-df-container {\n",
              "      display:flex;\n",
              "      flex-wrap:wrap;\n",
              "      gap: 12px;\n",
              "    }\n",
              "\n",
              "    .colab-df-convert {\n",
              "      background-color: #E8F0FE;\n",
              "      border: none;\n",
              "      border-radius: 50%;\n",
              "      cursor: pointer;\n",
              "      display: none;\n",
              "      fill: #1967D2;\n",
              "      height: 32px;\n",
              "      padding: 0 0 0 0;\n",
              "      width: 32px;\n",
              "    }\n",
              "\n",
              "    .colab-df-convert:hover {\n",
              "      background-color: #E2EBFA;\n",
              "      box-shadow: 0px 1px 2px rgba(60, 64, 67, 0.3), 0px 1px 3px 1px rgba(60, 64, 67, 0.15);\n",
              "      fill: #174EA6;\n",
              "    }\n",
              "\n",
              "    [theme=dark] .colab-df-convert {\n",
              "      background-color: #3B4455;\n",
              "      fill: #D2E3FC;\n",
              "    }\n",
              "\n",
              "    [theme=dark] .colab-df-convert:hover {\n",
              "      background-color: #434B5C;\n",
              "      box-shadow: 0px 1px 3px 1px rgba(0, 0, 0, 0.15);\n",
              "      filter: drop-shadow(0px 1px 2px rgba(0, 0, 0, 0.3));\n",
              "      fill: #FFFFFF;\n",
              "    }\n",
              "  </style>\n",
              "\n",
              "      <script>\n",
              "        const buttonEl =\n",
              "          document.querySelector('#df-3a8f2622-685c-4dd0-955c-0cf35ab3ae0e button.colab-df-convert');\n",
              "        buttonEl.style.display =\n",
              "          google.colab.kernel.accessAllowed ? 'block' : 'none';\n",
              "\n",
              "        async function convertToInteractive(key) {\n",
              "          const element = document.querySelector('#df-3a8f2622-685c-4dd0-955c-0cf35ab3ae0e');\n",
              "          const dataTable =\n",
              "            await google.colab.kernel.invokeFunction('convertToInteractive',\n",
              "                                                     [key], {});\n",
              "          if (!dataTable) return;\n",
              "\n",
              "          const docLinkHtml = 'Like what you see? Visit the ' +\n",
              "            '<a target=\"_blank\" href=https://colab.research.google.com/notebooks/data_table.ipynb>data table notebook</a>'\n",
              "            + ' to learn more about interactive tables.';\n",
              "          element.innerHTML = '';\n",
              "          dataTable['output_type'] = 'display_data';\n",
              "          await google.colab.output.renderOutput(dataTable, element);\n",
              "          const docLink = document.createElement('div');\n",
              "          docLink.innerHTML = docLinkHtml;\n",
              "          element.appendChild(docLink);\n",
              "        }\n",
              "      </script>\n",
              "    </div>\n",
              "  </div>\n",
              "  "
            ],
            "text/plain": [
              "                    title author school  \\\n",
              "0  Plato - Complete Works  Plato  plato   \n",
              "1  Plato - Complete Works  Plato  plato   \n",
              "2  Plato - Complete Works  Plato  plato   \n",
              "3  Plato - Complete Works  Plato  plato   \n",
              "4  Plato - Complete Works  Plato  plato   \n",
              "\n",
              "                                      sentence_spacy  \\\n",
              "0   What's new, Socrates, to make you leave your ...   \n",
              "1  Surely you are not prosecuting anyone before t...   \n",
              "2  The Athenians do not call this a prosecution b...   \n",
              "3                              What is this you say?   \n",
              "4  Someone must have indicted you, for you are no...   \n",
              "\n",
              "                                        sentence_str  \\\n",
              "0   What's new, Socrates, to make you leave your ...   \n",
              "1  Surely you are not prosecuting anyone before t...   \n",
              "2  The Athenians do not call this a prosecution b...   \n",
              "3                              What is this you say?   \n",
              "4  Someone must have indicted you, for you are no...   \n",
              "\n",
              "   original_publication_date  corpus_edition_date  sentence_length  \\\n",
              "0                       -350                 1997              125   \n",
              "1                       -350                 1997               69   \n",
              "2                       -350                 1997               74   \n",
              "3                       -350                 1997               21   \n",
              "4                       -350                 1997              101   \n",
              "\n",
              "                                    sentence_lowered  \\\n",
              "0   what's new, socrates, to make you leave your ...   \n",
              "1  surely you are not prosecuting anyone before t...   \n",
              "2  the athenians do not call this a prosecution b...   \n",
              "3                              what is this you say?   \n",
              "4  someone must have indicted you, for you are no...   \n",
              "\n",
              "                                       tokenized_txt  \\\n",
              "0  ['what', 'new', 'socrates', 'to', 'make', 'you...   \n",
              "1  ['surely', 'you', 'are', 'not', 'prosecuting',...   \n",
              "2  ['the', 'athenians', 'do', 'not', 'call', 'thi...   \n",
              "3               ['what', 'is', 'this', 'you', 'say']   \n",
              "4  ['someone', 'must', 'have', 'indicted', 'you',...   \n",
              "\n",
              "                                      lemmatized_str  \n",
              "0     what be new , Socrates , to make -PRON- lea...  \n",
              "1   surely -PRON- be not prosecute anyone before ...  \n",
              "2   the Athenians do not call this a prosecution ...  \n",
              "3                          what be this -PRON- say ?  \n",
              "4   someone must have indict -PRON- , for -PRON- ...  "
            ]
          },
          "execution_count": 16,
          "metadata": {},
          "output_type": "execute_result"
        }
      ],
      "source": [
        "df = pd.read_csv('/philosophy_data.csv')\n",
        "df.head()"
      ]
    },
    {
      "cell_type": "markdown",
      "metadata": {
        "id": "BBsZHfBGF3bQ"
      },
      "source": [
        "Creating Corpus Embeddings with Sentence Transformers Encoder"
      ]
    },
    {
      "cell_type": "code",
      "execution_count": null,
      "metadata": {
        "colab": {
          "base_uri": "https://localhost:8080/",
          "height": 49,
          "referenced_widgets": [
            "872faafb4ad242949a0b4ea2918c2422",
            "4ccd583acab7476397c9f277102eb180",
            "f9be0d3d8e6e445a910112c81e4190cc",
            "299cce5275eb4de0a174cde70690f179",
            "93a1de02984247a8a6c49d2b5e8c880c",
            "e5a6b8e549574cccbf3c789244d1ea13",
            "233d5a00eea74dca92e95aa186cf2ec3",
            "cfd96073502742e7ae4a97f34afd1a6a",
            "acde028b67b543e2bb7b0dbbeade490e",
            "fd01fcf1deb54613beda7685ab98435f",
            "92c338b43e2b448684ebe6cb00357b52"
          ]
        },
        "id": "eoJf1iBTF0p0",
        "outputId": "f17664e8-aac5-41be-b530-9860fe1747d1"
      },
      "outputs": [
        {
          "data": {
            "application/vnd.jupyter.widget-view+json": {
              "model_id": "872faafb4ad242949a0b4ea2918c2422",
              "version_major": 2,
              "version_minor": 0
            },
            "text/plain": [
              "Batches:   0%|          | 0/11276 [00:00<?, ?it/s]"
            ]
          },
          "metadata": {},
          "output_type": "display_data"
        }
      ],
      "source": [
        "corpus_embeddings = bi_encoder.encode(df['sentence_str'], convert_to_tensor=True, show_progress_bar=True)"
      ]
    },
    {
      "cell_type": "markdown",
      "metadata": {
        "id": "QHZNNvu6GrIc"
      },
      "source": [
        "Storing Sentence Embeddings"
      ]
    },
    {
      "cell_type": "code",
      "execution_count": null,
      "metadata": {
        "id": "AhxG3qEaLtlW"
      },
      "outputs": [],
      "source": [
        "import gzip\n",
        "\n",
        "df = df.drop(['sentence_spacy', 'original_publication_date', 'corpus_edition_date', 'sentence_length', 'sentence_lowered', 'tokenized_txt', 'lemmatized_str'], axis=1)\n",
        "\n",
        "pickle.dump({'df': df, 'embeddings': corpus_embeddings}, gzip.open('embeddings.gz', 'wb'))"
      ]
    },
    {
      "cell_type": "markdown",
      "metadata": {
        "id": "geiPCiXLG0dJ"
      },
      "source": [
        "Search Function"
      ]
    },
    {
      "cell_type": "code",
      "execution_count": null,
      "metadata": {
        "id": "-zMWR4dOwk7v"
      },
      "outputs": [],
      "source": [
        "def search(query):\n",
        "  question_embedding = bi_encoder.encode(query, convert_to_tensor=True)\n",
        "  question_embedding = question_embedding.cuda()\n",
        "  hits = util.semantic_search(question_embedding, corpus_embeddings, top_k=top_k)\n",
        "  hits = hits[0]\n",
        "\n",
        "  cross_inp = [[query, df['sentence_str'][hit['corpus_id']]] for hit in hits]\n",
        "  cross_scores = cross_encoder.predict(cross_inp)\n",
        "\n",
        "  for idx in range(len(cross_scores)):\n",
        "    hits[idx]['cross-score'] = cross_scores[idx]\n",
        "\n",
        "  hits = sorted(hits, key=lambda x: x['cross-score'], reverse=True)\n",
        "\n",
        "  for hit in hits[0:5]:\n",
        "        print(\"\\t{:.3f}\\t{}\".format(hit['cross-score'], df['sentence_str'][hit['corpus_id']]))    "
      ]
    },
    {
      "cell_type": "markdown",
      "metadata": {
        "id": "3gJcofx_G8ro"
      },
      "source": [
        "Demo"
      ]
    },
    {
      "cell_type": "code",
      "execution_count": null,
      "metadata": {
        "colab": {
          "base_uri": "https://localhost:8080/"
        },
        "id": "jc36n6Av1mhw",
        "outputId": "a6d28110-5a51-49f2-dd56-805cb6dd442b"
      },
      "outputs": [
        {
          "name": "stdout",
          "output_type": "stream",
          "text": [
            "\t9.017\tThe very meaning of life is now construed as the effort to live in such a way that life no longer has any point.\n",
            "\t8.502\tLife means here: beings in their being: Nature.\n",
            "\t7.984\tLife means here the will to will. '\n",
            "\t7.010\tThe concept of life or universal life is the immediate idea, the concept that has an objectivity corresponding to it; but the objectivity corresponds to it only to the extent that the concept is the negative unity of this externality, that is to say, posits it as corresponding to it.\n",
            "\t6.406\tBut a life is a relation with the world; the individual defines himself by choosing himself through the world; we must turn to the world to answer the questions that preoccupy us.\n"
          ]
        }
      ],
      "source": [
        "search(query = \"what is the meaning of life\")"
      ]
    }
  ],
  "metadata": {
    "accelerator": "GPU",
    "colab": {
      "provenance": []
    },
    "gpuClass": "standard",
    "kernelspec": {
      "display_name": "venv",
      "language": "python",
      "name": "python3"
    },
    "language_info": {
      "name": "python",
      "version": "3.9.7 (tags/v3.9.7:1016ef3, Aug 30 2021, 20:19:38) [MSC v.1929 64 bit (AMD64)]"
    },
    "vscode": {
      "interpreter": {
        "hash": "7ee699858cb0220dcd51f4c34823b9a1635bffa1fab4989ba058063354a0df31"
      }
    },
    "widgets": {
      "application/vnd.jupyter.widget-state+json": {
        "233d5a00eea74dca92e95aa186cf2ec3": {
          "model_module": "@jupyter-widgets/controls",
          "model_module_version": "1.5.0",
          "model_name": "DescriptionStyleModel",
          "state": {
            "_model_module": "@jupyter-widgets/controls",
            "_model_module_version": "1.5.0",
            "_model_name": "DescriptionStyleModel",
            "_view_count": null,
            "_view_module": "@jupyter-widgets/base",
            "_view_module_version": "1.2.0",
            "_view_name": "StyleView",
            "description_width": ""
          }
        },
        "299cce5275eb4de0a174cde70690f179": {
          "model_module": "@jupyter-widgets/controls",
          "model_module_version": "1.5.0",
          "model_name": "HTMLModel",
          "state": {
            "_dom_classes": [],
            "_model_module": "@jupyter-widgets/controls",
            "_model_module_version": "1.5.0",
            "_model_name": "HTMLModel",
            "_view_count": null,
            "_view_module": "@jupyter-widgets/controls",
            "_view_module_version": "1.5.0",
            "_view_name": "HTMLView",
            "description": "",
            "description_tooltip": null,
            "layout": "IPY_MODEL_fd01fcf1deb54613beda7685ab98435f",
            "placeholder": "​",
            "style": "IPY_MODEL_92c338b43e2b448684ebe6cb00357b52",
            "value": " 11276/11276 [02:22&lt;00:00, 149.54it/s]"
          }
        },
        "4ccd583acab7476397c9f277102eb180": {
          "model_module": "@jupyter-widgets/controls",
          "model_module_version": "1.5.0",
          "model_name": "HTMLModel",
          "state": {
            "_dom_classes": [],
            "_model_module": "@jupyter-widgets/controls",
            "_model_module_version": "1.5.0",
            "_model_name": "HTMLModel",
            "_view_count": null,
            "_view_module": "@jupyter-widgets/controls",
            "_view_module_version": "1.5.0",
            "_view_name": "HTMLView",
            "description": "",
            "description_tooltip": null,
            "layout": "IPY_MODEL_e5a6b8e549574cccbf3c789244d1ea13",
            "placeholder": "​",
            "style": "IPY_MODEL_233d5a00eea74dca92e95aa186cf2ec3",
            "value": "Batches: 100%"
          }
        },
        "872faafb4ad242949a0b4ea2918c2422": {
          "model_module": "@jupyter-widgets/controls",
          "model_module_version": "1.5.0",
          "model_name": "HBoxModel",
          "state": {
            "_dom_classes": [],
            "_model_module": "@jupyter-widgets/controls",
            "_model_module_version": "1.5.0",
            "_model_name": "HBoxModel",
            "_view_count": null,
            "_view_module": "@jupyter-widgets/controls",
            "_view_module_version": "1.5.0",
            "_view_name": "HBoxView",
            "box_style": "",
            "children": [
              "IPY_MODEL_4ccd583acab7476397c9f277102eb180",
              "IPY_MODEL_f9be0d3d8e6e445a910112c81e4190cc",
              "IPY_MODEL_299cce5275eb4de0a174cde70690f179"
            ],
            "layout": "IPY_MODEL_93a1de02984247a8a6c49d2b5e8c880c"
          }
        },
        "92c338b43e2b448684ebe6cb00357b52": {
          "model_module": "@jupyter-widgets/controls",
          "model_module_version": "1.5.0",
          "model_name": "DescriptionStyleModel",
          "state": {
            "_model_module": "@jupyter-widgets/controls",
            "_model_module_version": "1.5.0",
            "_model_name": "DescriptionStyleModel",
            "_view_count": null,
            "_view_module": "@jupyter-widgets/base",
            "_view_module_version": "1.2.0",
            "_view_name": "StyleView",
            "description_width": ""
          }
        },
        "93a1de02984247a8a6c49d2b5e8c880c": {
          "model_module": "@jupyter-widgets/base",
          "model_module_version": "1.2.0",
          "model_name": "LayoutModel",
          "state": {
            "_model_module": "@jupyter-widgets/base",
            "_model_module_version": "1.2.0",
            "_model_name": "LayoutModel",
            "_view_count": null,
            "_view_module": "@jupyter-widgets/base",
            "_view_module_version": "1.2.0",
            "_view_name": "LayoutView",
            "align_content": null,
            "align_items": null,
            "align_self": null,
            "border": null,
            "bottom": null,
            "display": null,
            "flex": null,
            "flex_flow": null,
            "grid_area": null,
            "grid_auto_columns": null,
            "grid_auto_flow": null,
            "grid_auto_rows": null,
            "grid_column": null,
            "grid_gap": null,
            "grid_row": null,
            "grid_template_areas": null,
            "grid_template_columns": null,
            "grid_template_rows": null,
            "height": null,
            "justify_content": null,
            "justify_items": null,
            "left": null,
            "margin": null,
            "max_height": null,
            "max_width": null,
            "min_height": null,
            "min_width": null,
            "object_fit": null,
            "object_position": null,
            "order": null,
            "overflow": null,
            "overflow_x": null,
            "overflow_y": null,
            "padding": null,
            "right": null,
            "top": null,
            "visibility": null,
            "width": null
          }
        },
        "acde028b67b543e2bb7b0dbbeade490e": {
          "model_module": "@jupyter-widgets/controls",
          "model_module_version": "1.5.0",
          "model_name": "ProgressStyleModel",
          "state": {
            "_model_module": "@jupyter-widgets/controls",
            "_model_module_version": "1.5.0",
            "_model_name": "ProgressStyleModel",
            "_view_count": null,
            "_view_module": "@jupyter-widgets/base",
            "_view_module_version": "1.2.0",
            "_view_name": "StyleView",
            "bar_color": null,
            "description_width": ""
          }
        },
        "cfd96073502742e7ae4a97f34afd1a6a": {
          "model_module": "@jupyter-widgets/base",
          "model_module_version": "1.2.0",
          "model_name": "LayoutModel",
          "state": {
            "_model_module": "@jupyter-widgets/base",
            "_model_module_version": "1.2.0",
            "_model_name": "LayoutModel",
            "_view_count": null,
            "_view_module": "@jupyter-widgets/base",
            "_view_module_version": "1.2.0",
            "_view_name": "LayoutView",
            "align_content": null,
            "align_items": null,
            "align_self": null,
            "border": null,
            "bottom": null,
            "display": null,
            "flex": null,
            "flex_flow": null,
            "grid_area": null,
            "grid_auto_columns": null,
            "grid_auto_flow": null,
            "grid_auto_rows": null,
            "grid_column": null,
            "grid_gap": null,
            "grid_row": null,
            "grid_template_areas": null,
            "grid_template_columns": null,
            "grid_template_rows": null,
            "height": null,
            "justify_content": null,
            "justify_items": null,
            "left": null,
            "margin": null,
            "max_height": null,
            "max_width": null,
            "min_height": null,
            "min_width": null,
            "object_fit": null,
            "object_position": null,
            "order": null,
            "overflow": null,
            "overflow_x": null,
            "overflow_y": null,
            "padding": null,
            "right": null,
            "top": null,
            "visibility": null,
            "width": null
          }
        },
        "e5a6b8e549574cccbf3c789244d1ea13": {
          "model_module": "@jupyter-widgets/base",
          "model_module_version": "1.2.0",
          "model_name": "LayoutModel",
          "state": {
            "_model_module": "@jupyter-widgets/base",
            "_model_module_version": "1.2.0",
            "_model_name": "LayoutModel",
            "_view_count": null,
            "_view_module": "@jupyter-widgets/base",
            "_view_module_version": "1.2.0",
            "_view_name": "LayoutView",
            "align_content": null,
            "align_items": null,
            "align_self": null,
            "border": null,
            "bottom": null,
            "display": null,
            "flex": null,
            "flex_flow": null,
            "grid_area": null,
            "grid_auto_columns": null,
            "grid_auto_flow": null,
            "grid_auto_rows": null,
            "grid_column": null,
            "grid_gap": null,
            "grid_row": null,
            "grid_template_areas": null,
            "grid_template_columns": null,
            "grid_template_rows": null,
            "height": null,
            "justify_content": null,
            "justify_items": null,
            "left": null,
            "margin": null,
            "max_height": null,
            "max_width": null,
            "min_height": null,
            "min_width": null,
            "object_fit": null,
            "object_position": null,
            "order": null,
            "overflow": null,
            "overflow_x": null,
            "overflow_y": null,
            "padding": null,
            "right": null,
            "top": null,
            "visibility": null,
            "width": null
          }
        },
        "f9be0d3d8e6e445a910112c81e4190cc": {
          "model_module": "@jupyter-widgets/controls",
          "model_module_version": "1.5.0",
          "model_name": "FloatProgressModel",
          "state": {
            "_dom_classes": [],
            "_model_module": "@jupyter-widgets/controls",
            "_model_module_version": "1.5.0",
            "_model_name": "FloatProgressModel",
            "_view_count": null,
            "_view_module": "@jupyter-widgets/controls",
            "_view_module_version": "1.5.0",
            "_view_name": "ProgressView",
            "bar_style": "success",
            "description": "",
            "description_tooltip": null,
            "layout": "IPY_MODEL_cfd96073502742e7ae4a97f34afd1a6a",
            "max": 11276,
            "min": 0,
            "orientation": "horizontal",
            "style": "IPY_MODEL_acde028b67b543e2bb7b0dbbeade490e",
            "value": 11276
          }
        },
        "fd01fcf1deb54613beda7685ab98435f": {
          "model_module": "@jupyter-widgets/base",
          "model_module_version": "1.2.0",
          "model_name": "LayoutModel",
          "state": {
            "_model_module": "@jupyter-widgets/base",
            "_model_module_version": "1.2.0",
            "_model_name": "LayoutModel",
            "_view_count": null,
            "_view_module": "@jupyter-widgets/base",
            "_view_module_version": "1.2.0",
            "_view_name": "LayoutView",
            "align_content": null,
            "align_items": null,
            "align_self": null,
            "border": null,
            "bottom": null,
            "display": null,
            "flex": null,
            "flex_flow": null,
            "grid_area": null,
            "grid_auto_columns": null,
            "grid_auto_flow": null,
            "grid_auto_rows": null,
            "grid_column": null,
            "grid_gap": null,
            "grid_row": null,
            "grid_template_areas": null,
            "grid_template_columns": null,
            "grid_template_rows": null,
            "height": null,
            "justify_content": null,
            "justify_items": null,
            "left": null,
            "margin": null,
            "max_height": null,
            "max_width": null,
            "min_height": null,
            "min_width": null,
            "object_fit": null,
            "object_position": null,
            "order": null,
            "overflow": null,
            "overflow_x": null,
            "overflow_y": null,
            "padding": null,
            "right": null,
            "top": null,
            "visibility": null,
            "width": null
          }
        }
      }
    }
  },
  "nbformat": 4,
  "nbformat_minor": 0
}
